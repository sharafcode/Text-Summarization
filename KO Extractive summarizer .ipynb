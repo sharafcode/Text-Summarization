{
 "cells": [
  {
   "cell_type": "code",
   "execution_count": 1,
   "metadata": {
    "collapsed": true
   },
   "outputs": [],
   "source": [
    "from nltk.tokenize import sent_tokenize,word_tokenize\n",
    "from nltk.corpus import stopwords\n",
    "from collections import defaultdict\n",
    "from string import punctuation\n",
    "from heapq import nlargest"
   ]
  },
  {
   "cell_type": "code",
   "execution_count": 2,
   "metadata": {
    "collapsed": true
   },
   "outputs": [],
   "source": [
    "class FrequencySummarizer:\n",
    "    def __init__(self, min_cut=0.01, max_cut=0.9):\n",
    "        \"\"\"\n",
    "        Initilize the text summarizer.\n",
    "        Words that have a frequency term lower than min_cut \n",
    "        or higher than max_cut will be ignored.\n",
    "        \"\"\"\n",
    "        self._min_cut = min_cut\n",
    "        self._max_cut = max_cut \n",
    "        self._stopwords = set(stopwords.words('english') + list(punctuation))\n",
    "\n",
    "    def _compute_frequencies(self, word_sent):\n",
    "        \"\"\" \n",
    "        Compute the frequency of each of word.\n",
    "        Input: \n",
    "        word_sent, a list of sentences already tokenized.\n",
    "        Output: \n",
    "        freq, a dictionary where freq[w] is the frequency of w.\n",
    "        \"\"\"\n",
    "        freq = defaultdict(int)\n",
    "        for s in word_sent:\n",
    "            for word in s:\n",
    "                if word not in self._stopwords:\n",
    "                    freq[word] += 1\n",
    "        # frequencies normalization and filtering\n",
    "        m = float(max(freq.values()))\n",
    "        for w in freq.keys():\n",
    "            freq[w] = freq[w]/m\n",
    "            if freq[w] >= self._max_cut or freq[w] <= self._min_cut:\n",
    "                del freq[w]\n",
    "        return freq\n",
    "\n",
    "    def summarize(self, text, n):\n",
    "        \"\"\"\n",
    "        Return a list of n sentences\n",
    "        which represent the summary of text.\n",
    "        \"\"\"\n",
    "        sents = sent_tokenize(text)\n",
    "        assert n <= len(sents)\n",
    "        word_sent = [word_tokenize(s.lower()) for s in sents]\n",
    "        self._freq = self._compute_frequencies(word_sent)\n",
    "        ranking = defaultdict(int)\n",
    "#         print word_sent\n",
    "        for i,sent in enumerate(word_sent):\n",
    "            for w in sent:\n",
    "                if w in self._freq:\n",
    "                    ranking[i] += self._freq[w]\n",
    "        sents_idx = self._rank(ranking, n)\n",
    "        return [sents[j] for j in sents_idx]\n",
    "    \n",
    "    def _rank(self, ranking, n):\n",
    "        \"\"\" return the first n sentences with highest ranking \"\"\"\n",
    "        return nlargest(n, ranking, key=ranking.get)"
   ]
  },
  {
   "cell_type": "code",
   "execution_count": 3,
   "metadata": {
    "collapsed": true
   },
   "outputs": [],
   "source": [
    "import urllib2\n",
    "from bs4 import BeautifulSoup\n",
    "\n",
    "def get_only_text(url):\n",
    "    \"\"\" \n",
    "    return the title and the text of the article\n",
    "    at the specified url\n",
    "    \"\"\"\n",
    "    page = urllib2.urlopen(url).read().decode('utf8')\n",
    "    soup = BeautifulSoup(page)\n",
    "    text = ' '.join(map(lambda p: p.text, soup.find_all('p')))\n",
    "    return soup.title.text, text"
   ]
  },
  {
   "cell_type": "code",
   "execution_count": 7,
   "metadata": {
    "collapsed": false,
    "scrolled": false
   },
   "outputs": [
    {
     "name": "stdout",
     "output_type": "stream",
     "text": [
      "--------------------------------------------------------------\n",
      "Why We Chose Typescript – Upvoted\n",
      "--------------------------------------------------------------\n",
      "* Typescript also came with a lot of “social proof” and better assurances about its longevity There are several large projects using Typescript (examples include VSCode, Rxjs, Angular, and Typescript itself), so we felt confident that its feature set could support our product goals, and the language would stick around for several years.\n",
      "* One major difference between Typescript and Flow is that Typescript is a language that compiles down to Javascript, whereas Flow is a set of annotations you can add to existing Javascript that can then be checked for correctness by a tool.\n",
      "--------------------------------------------------------------\n",
      "How A Box Of Cereal And Being Like A Cockroach Helped Airbnb Become A Billion-Dollar Business - Business Insider\n",
      "--------------------------------------------------------------\n",
      "* The 5 biggest stock market crashes in history have 'striking' similarities \n",
      "More \"The Bottom Line\" »  Here's how much you need to save for college every year depending on when you start \n",
      "More \"Year by Year\" »  Get the best of Business Insider delivered to your inbox every day.\n",
      "* Chesky says\n",
      "  the interview didn't go well, but in a last-ditch effort, his\n",
      "  co-founder whipped out a box of Obama O's and handed it to\n",
      "  Graham.\n",
      "--------------------------------------------------------------\n",
      "A Product Management Framework for the Internet of Things - TechProductManagement\n",
      "--------------------------------------------------------------\n",
      "* Not only do you need to make critical business and technical decisions at each of these five layers, but you need to make sure this myriad of decisions are consistent with your overall strategy and consistent across the five layers.\n",
      "* The choices you make in each Decision Area and stack layer will have an impact in other Decision Areas and stack layers.\n"
     ]
    }
   ],
   "source": [
    "#Just a naive approach to extract some summaries from Knowledge Officer articles from the direct link\n",
    "\n",
    "article_url =[] \n",
    "\n",
    "#Engineering\n",
    "article_url.append('https://redditblog.com/2017/06/30/why-we-chose-typescript/') \n",
    "#Startup & Business\n",
    "article_url.append('http://www.businessinsider.com/how-a-box-of-cereal-and-being-like-a-cockroach-helped-airbnb-become-a-billion-dollar-business-2013-3')\n",
    "#Product & Design\n",
    "article_url.append('https://www.techproductmanagement.com/iot-decision-framework/')\n",
    "\n",
    "fs = FrequencySummarizer()\n",
    "for article in article_url[:3]:\n",
    "    title, text = get_only_text(article)\n",
    "    print '--------------------------------------------------------------'\n",
    "    print title\n",
    "    print '--------------------------------------------------------------'\n",
    "    for s in fs.summarize(text, 2):   #Here we can control the number of the sentences snippets. \n",
    "        print '*',s"
   ]
  }
 ],
 "metadata": {
  "kernelspec": {
   "display_name": "Python 2",
   "language": "python",
   "name": "python2"
  },
  "language_info": {
   "codemirror_mode": {
    "name": "ipython",
    "version": 2
   },
   "file_extension": ".py",
   "mimetype": "text/x-python",
   "name": "python",
   "nbconvert_exporter": "python",
   "pygments_lexer": "ipython2",
   "version": "2.7.11"
  }
 },
 "nbformat": 4,
 "nbformat_minor": 0
}
